{
 "cells": [
  {
   "cell_type": "code",
   "execution_count": 39,
   "metadata": {},
   "outputs": [],
   "source": [
    "import os\n",
    "import glob\n",
    "import shutil"
   ]
  },
  {
   "cell_type": "code",
   "execution_count": 40,
   "metadata": {},
   "outputs": [],
   "source": [
    "# video_name = '11'\n",
    "video_name_list = ['4-1', 'test_video_2', 'test_video_3', 'test_video_4', 'test_video_5', 'test_video_6']\n",
    "# video_name_list = ['4-1']\n"
   ]
  },
  {
   "cell_type": "code",
   "execution_count": 41,
   "metadata": {},
   "outputs": [
    {
     "name": "stdout",
     "output_type": "stream",
     "text": [
      "file not found at 1426\n",
      "file not found at 287\n",
      "file not found at 0\n",
      "file not found at 1432\n",
      "file not found at 403\n",
      "file not found at 404\n",
      "file not found at 330\n",
      "file not found at 387\n",
      "file not found at 566\n",
      "file not found at 548\n",
      "file not found at 304\n",
      "file not found at 432\n",
      "file not found at 602\n",
      "file not found at 383\n",
      "file not found at 351\n",
      "file not found at 731\n",
      "file not found at 693\n",
      "file not found at 530\n",
      "file not found at 708\n"
     ]
    }
   ],
   "source": [
    "def main():\n",
    "    for video_name in video_name_list:\n",
    "        label_folder = '{}_label'.format(video_name)\n",
    "        if not os.path.exists(label_folder):\n",
    "            os.makedirs(label_folder)\n",
    "            \n",
    "        pic_folder = '{}_pic'.format(video_name)\n",
    "        if not os.path.exists(pic_folder):\n",
    "            os.makedirs(pic_folder)\n",
    "\n",
    "        label_list = glob.glob('{}/{}_*.txt'.format(video_name, video_name))\n",
    "        \n",
    "        for label in label_list:\n",
    "            frame_ind = os.path.basename(label).split('_')[-1].split('.')[0]\n",
    "            shutil.copy(\n",
    "                '{}/{}_frame_{}.txt'.format(video_name, video_name, frame_ind), \n",
    "                '{}_label/{}_frame_{}.txt'.format(video_name, video_name, frame_ind))\n",
    "\n",
    "            if os.path.isfile('{}/{}_frame_{}.jpg'.format(video_name, video_name, frame_ind)):\n",
    "                os.rename(\n",
    "                    '{}/{}_frame_{}.jpg'.format(video_name, video_name, frame_ind), \n",
    "                    '{}_pic/{}_frame_{}.jpg'.format(video_name, video_name, frame_ind))\n",
    "            else:\n",
    "                print('file not found at {}'.format(frame_ind))\n",
    "    pass\n",
    "\n",
    "main()"
   ]
  },
  {
   "cell_type": "code",
   "execution_count": 42,
   "metadata": {},
   "outputs": [
    {
     "name": "stdout",
     "output_type": "stream",
     "text": [
      "./images/4-1_frame_1426.jpg\n",
      "./images/test_video_3_frame_0.jpg\n",
      "./images/test_video_3_frame_1432.jpg\n",
      "./images/test_video_3_frame_287.jpg\n",
      "./images/test_video_3_frame_403.jpg\n",
      "./images/test_video_3_frame_404.jpg\n",
      "./images/test_video_4_frame_304.jpg\n",
      "./images/test_video_4_frame_330.jpg\n",
      "./images/test_video_4_frame_387.jpg\n",
      "./images/test_video_4_frame_548.jpg\n",
      "./images/test_video_4_frame_566.jpg\n",
      "./images/test_video_5_frame_432.jpg\n",
      "./images/test_video_6_frame_351.jpg\n",
      "./images/test_video_6_frame_383.jpg\n",
      "./images/test_video_6_frame_530.jpg\n",
      "./images/test_video_6_frame_602.jpg\n",
      "./images/test_video_6_frame_693.jpg\n",
      "./images/test_video_6_frame_708.jpg\n",
      "./images/test_video_6_frame_731.jpg\n"
     ]
    }
   ],
   "source": [
    "def list_name():\n",
    "#     video_name = '6'\n",
    "    for video_name in video_name_list:\n",
    "        label_list = glob.glob('{}_pic/{}_*.jpg'.format(video_name, video_name))\n",
    "        label_list.sort()\n",
    "        for label in label_list:\n",
    "            base_name = os.path.basename(label)\n",
    "            print('./images/{}'.format(base_name))\n",
    "\n",
    "list_name()"
   ]
  }
 ],
 "metadata": {
  "kernelspec": {
   "display_name": "lab2",
   "language": "python",
   "name": "lab2"
  },
  "language_info": {
   "codemirror_mode": {
    "name": "ipython",
    "version": 3
   },
   "file_extension": ".py",
   "mimetype": "text/x-python",
   "name": "python",
   "nbconvert_exporter": "python",
   "pygments_lexer": "ipython3",
   "version": "3.6.11"
  }
 },
 "nbformat": 4,
 "nbformat_minor": 4
}
